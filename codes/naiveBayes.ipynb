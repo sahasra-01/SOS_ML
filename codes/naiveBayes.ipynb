{
 "cells": [
  {
   "cell_type": "code",
   "execution_count": 6,
   "metadata": {},
   "outputs": [],
   "source": [
    "import numpy as np\n",
    "import pandas as pd"
   ]
  },
  {
   "cell_type": "code",
   "execution_count": 7,
   "metadata": {},
   "outputs": [],
   "source": [
    "mush = pd.read_csv(\"./mushrooms.csv\")\n",
    "# This data consist of missing data with '?' as value. All the missing values are from single column."
   ]
  },
  {
   "cell_type": "code",
   "execution_count": 8,
   "metadata": {},
   "outputs": [
    {
     "name": "stdout",
     "output_type": "stream",
     "text": [
      "23 columns, after dropping NA, 22\n"
     ]
    }
   ],
   "source": [
    "# To remove it.\n",
    "mush.replace('?',np.nan,inplace=True)\n",
    "print(len(mush.columns),\"columns, after dropping NA,\",len(mush.dropna(axis=1).columns))\n",
    "\n",
    "mush.dropna(axis=1,inplace=True)"
   ]
  },
  {
   "cell_type": "code",
   "execution_count": 9,
   "metadata": {},
   "outputs": [],
   "source": [
    "target = 'class'\n",
    "features = mush.columns[mush.columns != target]\n",
    "classes = mush[target].unique()"
   ]
  },
  {
   "cell_type": "code",
   "execution_count": 10,
   "metadata": {},
   "outputs": [],
   "source": [
    "test = mush.sample(frac=0.3)\n",
    "mush = mush.drop(test.index)"
   ]
  },
  {
   "cell_type": "code",
   "execution_count": 11,
   "metadata": {},
   "outputs": [],
   "source": [
    "# Probabilties Calculation\n",
    "probs = {}\n",
    "probcl = {}\n",
    "for x in classes:\n",
    "    mushcl = mush[mush[target]==x][features]\n",
    "    clsp = {}\n",
    "    tot = len(mushcl)\n",
    "    for col in mushcl.columns:\n",
    "        colp = {}\n",
    "        for val,cnt in mushcl[col].value_counts().iteritems():\n",
    "            pr = cnt/tot\n",
    "            colp[val] = pr\n",
    "        clsp[col] = colp\n",
    "    probs[x] = clsp\n",
    "    probcl[x] = len(mushcl)/len(mush)"
   ]
  },
  {
   "cell_type": "code",
   "execution_count": 12,
   "metadata": {},
   "outputs": [],
   "source": [
    "def probabs(x):\n",
    "    #X - pandas Series with index as feature\n",
    "    if not isinstance(x,pd.Series):\n",
    "        raise IOError(\"Arg must of type Series\")\n",
    "    probab = {}\n",
    "    for cl in classes:\n",
    "        pr = probcl[cl]\n",
    "        for col,val in x.iteritems():\n",
    "            try:\n",
    "                pr *= probs[cl][col][val]\n",
    "            except KeyError:\n",
    "                pr = 0\n",
    "        probab[cl] = pr\n",
    "    return probab"
   ]
  },
  {
   "cell_type": "code",
   "execution_count": 13,
   "metadata": {},
   "outputs": [],
   "source": [
    "def classify(x):\n",
    "    probab = probabs(x)\n",
    "    mx = 0\n",
    "    mxcl = ''\n",
    "    for cl,pr in probab.items():\n",
    "        if pr > mx:\n",
    "            mx = pr\n",
    "            mxcl = cl\n",
    "    return mxcl"
   ]
  },
  {
   "cell_type": "code",
   "execution_count": 14,
   "metadata": {},
   "outputs": [
    {
     "name": "stdout",
     "output_type": "stream",
     "text": [
      "5670 correct of 5687\n",
      "Accuracy: 0.9970107262176895\n"
     ]
    }
   ],
   "source": [
    "#Train data\n",
    "b = []\n",
    "for i in mush.index:\n",
    "    b.append(classify(mush.loc[i,features]) == mush.loc[i,target])\n",
    "print(sum(b),\"correct of\",len(mush))\n",
    "print(\"Accuracy:\", sum(b)/len(mush))"
   ]
  },
  {
   "cell_type": "code",
   "execution_count": 15,
   "metadata": {},
   "outputs": [
    {
     "name": "stdout",
     "output_type": "stream",
     "text": [
      "2431 correct of 2437\n",
      "Accuracy: 0.9975379565038982\n"
     ]
    }
   ],
   "source": [
    "#Test data\n",
    "b = []\n",
    "for i in test.index:\n",
    "    b.append(classify(test.loc[i,features]) == test.loc[i,target])\n",
    "print(sum(b),\"correct of\",len(test))\n",
    "print(\"Accuracy:\",sum(b)/len(test))\n"
   ]
  },
  {
   "cell_type": "code",
   "execution_count": null,
   "metadata": {},
   "outputs": [],
   "source": []
  }
 ],
 "metadata": {
  "kernelspec": {
   "display_name": "Python 3",
   "language": "python",
   "name": "python3"
  },
  "language_info": {
   "codemirror_mode": {
    "name": "ipython",
    "version": 3
   },
   "file_extension": ".py",
   "mimetype": "text/x-python",
   "name": "python",
   "nbconvert_exporter": "python",
   "pygments_lexer": "ipython3",
   "version": "3.7.5"
  }
 },
 "nbformat": 4,
 "nbformat_minor": 4
}
